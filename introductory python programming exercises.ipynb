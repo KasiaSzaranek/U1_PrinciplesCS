{
 "cells": [
  {
   "cell_type": "code",
   "execution_count": null,
   "metadata": {},
   "outputs": [
    {
     "name": "stdout",
     "output_type": "stream",
     "text": [
      "Rolling the dices...\n",
      "The values are....\n",
      "4\n",
      "2\n"
     ]
    }
   ],
   "source": [
    "import random \n",
    "\n",
    "min = 1\n",
    "max = 6\n",
    "\n",
    "roll_again = \"yes\"\n",
    "\n",
    "while roll_again == \"yes\" or roll_again == \"y\":\n",
    "    print (\"Rolling the dices...\")\n",
    "    print (\"The values are....\")\n",
    "    print (random.randint(min, max))\n",
    "    print (random.randint(min, max))\n",
    "\n",
    "    roll_again = input(\"Roll the dices again?\")\n",
    "    roll_again.upper()\n",
    "    "
   ]
  },
  {
   "cell_type": "code",
   "execution_count": null,
   "metadata": {
    "collapsed": true
   },
   "outputs": [],
   "source": [
    "temp = int(input(\"what temperature is it outside?: \"))\n",
    "\n",
    "if temp <= 10:\n",
    "    print(\"Wear coat and full clothing \")\n",
    "             \n",
    "elif temp > 10 and temp <=20:\n",
    "    print (\"Wear a hoodie \")\n",
    "    \n",
    "else:\n",
    "    print(\"Wear shorts\")\n"
   ]
  },
  {
   "cell_type": "markdown",
   "metadata": {},
   "source": [
    "# task 3: SW Developement mini-mini project\n",
    "\n",
    "pseudocode:\n",
    "\n",
    "math = input\n",
    "biology = input\n",
    "cs = input\n",
    "math = math.upper\n",
    "biology = biology.upper\n",
    "cs = cs.upper\n",
    "\n",
    "a_level = input from medicine/computer science/computational biology\n",
    "\n",
    "if a_level is medicine:\n",
    "    is math and biology equal to YES\n",
    "        if true:\n",
    "            print(you can do this course)\n",
    "            \n",
    "        else:\n",
    "            print (you cant do this course)\n",
    "           \n",
    "            \n",
    "elif a_level is computer science:\n",
    "    is math and cs equal to YES\n",
    "        if true:\n",
    "            print(you can do this course)\n",
    "            \n",
    "        else:\n",
    "            print (you cant do this course)\n",
    "            \n",
    "elif a_level is computational biology:\n",
    "    is biology and cs equal to YES\n",
    "        if true:\n",
    "            print(you can do this course)\n",
    "            \n",
    "        else:\n",
    "            print (you cant do this course)\n",
    "            \n",
    "else:\n",
    "    a_level is not medicine/computer science/computational biology:\n",
    "    print (not valid answer)\n",
    "            \n",
    "\n",
    "            \n",
    "        "
   ]
  },
  {
   "cell_type": "code",
   "execution_count": 16,
   "metadata": {},
   "outputs": [
    {
     "name": "stdout",
     "output_type": "stream",
     "text": [
      "You can enter this movie\n",
      "You can come to the party\n",
      "Take an umbrella\n"
     ]
    }
   ],
   "source": [
    "#1) Allow entry to a movie if the user is older than 18 or if they are accompanied by an adult\n",
    "\n",
    "age = 18\n",
    "adult = \"YES\"\n",
    "\n",
    "if age >=18 or adult ==\"YES\":\n",
    "    print (\"You can enter this movie\")\n",
    "else:\n",
    "    print(\"You cant enter this movie\")\n",
    "\n",
    "#2) Allow the user to come to your party if they are a boy and they like pizza\n",
    "\n",
    "pizza = \"YES\"\n",
    "\n",
    "boy = \"YES\"\n",
    "\n",
    "if boy == \"YES\" and pizza == \"YES\":\n",
    "    print (\"You can come to the party\")\n",
    "else:\n",
    "    print (\"you cant come to the party\")\n",
    "    \n",
    "#3) Remind the user to take an umbrella if the temperature is higher than 17 and the chance of rain is higher than 80%\n",
    "\n",
    "rain = 80\n",
    "temperature = 17\n",
    "\n",
    "if temperature >= 17 and rain >= 80:\n",
    "    print (\"Take an umbrella\")\n",
    "    \n",
    "else:\n",
    "    print(\"Dont take an umbrella\")\n",
    "\n"
   ]
  }
 ],
 "metadata": {
  "kernelspec": {
   "display_name": "Python 3",
   "language": "python",
   "name": "python3"
  },
  "language_info": {
   "codemirror_mode": {
    "name": "ipython",
    "version": 3
   },
   "file_extension": ".py",
   "mimetype": "text/x-python",
   "name": "python",
   "nbconvert_exporter": "python",
   "pygments_lexer": "ipython3",
   "version": "3.5.2"
  }
 },
 "nbformat": 4,
 "nbformat_minor": 2
}
