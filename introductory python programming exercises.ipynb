{
 "cells": [
  {
   "cell_type": "code",
   "execution_count": null,
   "metadata": {},
   "outputs": [],
   "source": [
    "import random \n",
    "\n",
    "min = 1\n",
    "max = 6\n",
    "\n",
    "roll_again = \"yes\"\n",
    "\n",
    "while roll_again == \"yes\" or roll_again == \"y\":\n",
    "    print (\"Rolling the dices...\")\n",
    "    print (\"The values are....\")\n",
    "    print (random.randint(min, max))\n",
    "    print (random.randint(min, max))\n",
    "\n",
    "    roll_again = input(\"Roll the dices again?\")\n",
    "    roll_again.upper()\n",
    "    "
   ]
  },
  {
   "cell_type": "code",
   "execution_count": null,
   "metadata": {
    "collapsed": true
   },
   "outputs": [],
   "source": [
    "temp = int(input(\"what temperature is it outside?: \"))\n",
    "\n",
    "if temp <= 10:\n",
    "    print(\"Wear coat and full clothing \")\n",
    "             \n",
    "elif temp > 10 and temp <=20:\n",
    "    print (\"Wear a hoodie \")\n",
    "    \n",
    "else:\n",
    "    print(\"Wear shorts\")\n"
   ]
  },
  {
   "cell_type": "markdown",
   "metadata": {},
   "source": [
    "# task 3: SW Developement mini-mini project\n",
    "\n",
    "pseudocode:\n",
    "\n",
    "math = input\n",
    "biology = input\n",
    "cs = input\n",
    "math = math.upper\n",
    "biology = biology.upper\n",
    "cs = cs.upper\n",
    "\n",
    "a_level = input from medicine/computer science/computational biology\n",
    "\n",
    "if a_level is medicine:\n",
    "    is math and biology equal to YES\n",
    "        if true:\n",
    "            print(you can do this course)\n",
    "            \n",
    "        else:\n",
    "            print (you cant do this course)\n",
    "           \n",
    "            \n",
    "elif a_level is computer science:\n",
    "    is math and cs equal to YES\n",
    "        if true:\n",
    "            print(you can do this course)\n",
    "            \n",
    "        else:\n",
    "            print (you cant do this course)\n",
    "            \n",
    "elif a_level is computational biology:\n",
    "    is biology and cs equal to YES\n",
    "        if true:\n",
    "            print(you can do this course)\n",
    "            \n",
    "        else:\n",
    "            print (you cant do this course)\n",
    "            \n",
    "else:\n",
    "    a_level is not medicine/computer science/computational biology:\n",
    "    print (not valid answer)\n",
    "            \n",
    "\n",
    "            \n",
    "        "
   ]
  },
  {
   "cell_type": "code",
   "execution_count": null,
   "metadata": {
    "collapsed": true
   },
   "outputs": [],
   "source": [
    "#1) Allow entry to a movie if the user is older than 18 or if they are accompanied by an adult\n",
    "\n",
    "age = 18\n",
    "adult = \"YES\"\n",
    "\n",
    "if age >=18 or adult ==\"YES\":\n",
    "    print (\"You can enter this movie\")\n",
    "else:\n",
    "    print(\"You cant enter this movie\")\n",
    "\n",
    "#2) Allow the user to come to your party if they are a boy and they like pizza\n",
    "\n",
    "pizza = \"YES\"\n",
    "\n",
    "boy = \"YES\"\n",
    "\n",
    "if boy == \"YES\" and pizza == \"YES\":\n",
    "    print (\"You can come to the party\")\n",
    "else:\n",
    "    print (\"you cant come to the party\")\n",
    "    \n",
    "#3) Remind the user to take an umbrella if the temperature is higher than 17 and the chance of rain is higher than 80%\n",
    "\n",
    "rain = 80\n",
    "temperature = 17\n",
    "\n",
    "if temperature >= 17 and rain >= 80:\n",
    "    print (\"Take an umbrella\")\n",
    "    \n",
    "else:\n",
    "    print(\"Dont take an umbrella\")\n",
    "\n"
   ]
  },
  {
   "cell_type": "code",
   "execution_count": null,
   "metadata": {
    "collapsed": true
   },
   "outputs": [],
   "source": [
    "#Iteration:\n",
    "\n",
    "for x in range(0,9):\n",
    "        print(\"Hello!\")\n",
    "        print (\"Goodbye\")\n",
    "\n",
    "#it repeats it 9 times because it starts counting from 0 and does not include the 9\n",
    "\n",
    "\n",
    "\n",
    "    \n",
    "    "
   ]
  },
  {
   "cell_type": "code",
   "execution_count": null,
   "metadata": {
    "collapsed": true
   },
   "outputs": [],
   "source": [
    "#iteration 2:\n",
    "name = \"fred\"\n",
    "for ch in name:\n",
    "    print(ch, end = \"  \")\n",
    "#outputs the end constant in between every individual character"
   ]
  },
  {
   "cell_type": "code",
   "execution_count": null,
   "metadata": {
    "collapsed": true
   },
   "outputs": [],
   "source": [
    "#print out the numbers 1 - 100 separated by stars\n",
    "for x in range (1,101):\n",
    "    print(x, end = \"*\")"
   ]
  },
  {
   "cell_type": "code",
   "execution_count": null,
   "metadata": {
    "collapsed": true
   },
   "outputs": [],
   "source": [
    "#prints out user inputted message backwards\n",
    "input = \"Alex\"\n",
    "for x in reversed(input):\n",
    "    print(x)\n",
    "\n",
    "#reversed() allows the input to be printed backwards"
   ]
  },
  {
   "cell_type": "code",
   "execution_count": null,
   "metadata": {
    "collapsed": true
   },
   "outputs": [],
   "source": [
    "#print numbers from 10 -1 then prints blast off\n",
    "\n",
    "for x in range (1,11):\n",
    "    print (x)\n",
    "    if x == 0:\n",
    "        print (\"blast off!!!!!!!\")"
   ]
  },
  {
   "cell_type": "code",
   "execution_count": null,
   "metadata": {
    "collapsed": true
   },
   "outputs": [],
   "source": [
    "radius = 10\n",
    "\n",
    "pi = 3.141592653589793\n",
    "\n",
    "print('{:d}'.format(radius))\n",
    "print('{:f}'.format(pi))"
   ]
  },
  {
   "cell_type": "code",
   "execution_count": null,
   "metadata": {
    "collapsed": true
   },
   "outputs": [],
   "source": [
    "pi = 3.141592653589793\n",
    "print('{:0.2f}'.format(pi))"
   ]
  },
  {
   "cell_type": "code",
   "execution_count": null,
   "metadata": {},
   "outputs": [],
   "source": [
    "#takes users input and puts it in ASCII code \n",
    "word = input(\"Please Input a word: \")\n",
    "print (\"Your word/sentence in ASCII is:  \")\n",
    "for i in word:\n",
    "    x = ord(i)\n",
    "    print(x, end = \", \")\n",
    "    "
   ]
  },
  {
   "cell_type": "code",
   "execution_count": 6,
   "metadata": {},
   "outputs": [
    {
     "name": "stdout",
     "output_type": "stream",
     "text": [
      "L i v e   l o n g   a n d   p r o s p e r "
     ]
    }
   ],
   "source": [
    "#converts ascii into text\n",
    "ASCII = [76,105,118,101,32,108,111,110,103,32,97,110,100,32,112,114,111,115,112,101,114]\n",
    "\n",
    "for i in ASCII:\n",
    "    \n",
    "    y = chr(i)\n",
    "    \n",
    "    print(y, end = \" \")"
   ]
  }
 ],
 "metadata": {
  "kernelspec": {
   "display_name": "Python 3",
   "language": "python",
   "name": "python3"
  },
  "language_info": {
   "codemirror_mode": {
    "name": "ipython",
    "version": 3
   },
   "file_extension": ".py",
   "mimetype": "text/x-python",
   "name": "python",
   "nbconvert_exporter": "python",
   "pygments_lexer": "ipython3",
   "version": "3.5.2"
  }
 },
 "nbformat": 4,
 "nbformat_minor": 2
}
